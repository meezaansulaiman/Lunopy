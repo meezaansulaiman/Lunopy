{
 "cells": [
  {
   "cell_type": "code",
   "execution_count": 13,
   "metadata": {
    "collapsed": false
   },
   "outputs": [
    {
     "name": "stdout",
     "output_type": "stream",
     "text": [
      "?pair=XBT&account_id=123456789\n"
     ]
    }
   ],
   "source": [
    "b = {'pair' : 'XBT', 'account_id':123456789}\n",
    "\n",
    "\n",
    "z = list(map(lambda x: '{0}={1}'.format(x, b[x]), b.keys()))\n",
    "\n",
    "print('?' +'&'.join(z))\n",
    "\n",
    "\n",
    "# for i in b:\n",
    "#     print(i)"
   ]
  },
  {
   "cell_type": "code",
   "execution_count": 24,
   "metadata": {
    "collapsed": false
   },
   "outputs": [
    {
     "data": {
      "text/html": [
       "<table border=\"1\" class=\"dataframe\">\n",
       "  <thead>\n",
       "    <tr style=\"text-align: right;\">\n",
       "      <th></th>\n",
       "      <th>0</th>\n",
       "    </tr>\n",
       "  </thead>\n",
       "  <tbody>\n",
       "    <tr>\n",
       "      <th>0</th>\n",
       "      <td>id      price    volume\n",
       "0  ...</td>\n",
       "    </tr>\n",
       "    <tr>\n",
       "      <th>1</th>\n",
       "      <td>id         price    volume\n",
       "...</td>\n",
       "    </tr>\n",
       "  </tbody>\n",
       "</table>"
      ],
      "text/plain": [
       "<IPython.core.display.HTML object>"
      ]
     },
     "metadata": {},
     "output_type": "display_data"
    }
   ],
   "source": [
    "import asyncio\n",
    "import websockets\n",
    "from config import KEY, SECRET\n",
    "import json\n",
    "import pandas as pd\n",
    "from IPython.display import display, HTML\n",
    "import time\n",
    "\n",
    "async def connect_websocket():\n",
    "\n",
    "    api_key = {'api_key_id': KEY, 'api_key_secret': SECRET}\n",
    "    message = json.dumps(api_key)\n",
    "\n",
    "    async with websockets.connect('wss://ws.luno.com/api/1/stream/XBTZAR') as websocket:\n",
    "        await websocket.send(message)\n",
    "\n",
    "        response = json.loads(await websocket.recv())\n",
    "        df_bids = pd.DataFrame(response['bids'])\n",
    "        df_asks = pd.DataFrame(response['asks'])\n",
    "        df = pd.DataFrame([df_bids,df_asks])\n",
    "#         df = pd.DataFrame(data=response)\n",
    "#         print(response.keys())\n",
    "        display(HTML(df.to_html()))\n",
    "# while True:\n",
    "asyncio.get_event_loop().run_until_complete(connect_websocket())\n",
    "# asyncio.get_event_loop().run_forever()\n",
    "\n",
    "# if __name__ == '__main__':\n"
   ]
  },
  {
   "cell_type": "code",
   "execution_count": null,
   "metadata": {
    "collapsed": true
   },
   "outputs": [],
   "source": [
    "def f(x):\n",
    "    if x[:1] != '_':\n",
    "        return x\n",
    "    \n",
    "y = filter(f ,asyncio.get_event_loop().__dir__())\n",
    "list(y)"
   ]
  }
 ],
 "metadata": {
  "kernelspec": {
   "display_name": "Python 3",
   "language": "python",
   "name": "python3"
  },
  "language_info": {
   "codemirror_mode": {
    "name": "ipython",
    "version": 3
   },
   "file_extension": ".py",
   "mimetype": "text/x-python",
   "name": "python",
   "nbconvert_exporter": "python",
   "pygments_lexer": "ipython3",
   "version": "3.5.0+"
  }
 },
 "nbformat": 4,
 "nbformat_minor": 2
}
