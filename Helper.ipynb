{
 "cells": [
  {
   "cell_type": "code",
   "execution_count": 13,
   "metadata": {
    "collapsed": false
   },
   "outputs": [
    {
     "name": "stdout",
     "output_type": "stream",
     "text": [
      "?pair=XBT&account_id=123456789\n"
     ]
    }
   ],
   "source": [
    "b = {'pair' : 'XBT', 'account_id':123456789}\n",
    "\n",
    "\n",
    "z = list(map(lambda x: '{0}={1}'.format(x, b[x]), b.keys()))\n",
    "\n",
    "print('?' +'&'.join(z))\n",
    "\n",
    "\n",
    "# for i in b:\n",
    "#     print(i)"
   ]
  }
 ],
 "metadata": {
  "kernelspec": {
   "display_name": "Python 3",
   "language": "python",
   "name": "python3"
  },
  "language_info": {
   "codemirror_mode": {
    "name": "ipython",
    "version": 3
   },
   "file_extension": ".py",
   "mimetype": "text/x-python",
   "name": "python",
   "nbconvert_exporter": "python",
   "pygments_lexer": "ipython3",
   "version": "3.5.0+"
  }
 },
 "nbformat": 4,
 "nbformat_minor": 2
}
